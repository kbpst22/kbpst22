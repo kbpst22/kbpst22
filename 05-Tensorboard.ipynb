{
 "cells": [
  {
   "cell_type": "markdown",
   "metadata": {},
   "source": [
    "<a href=\"https://www.pieriandata.com\"><img src=\"../Pierian_Data_Logo.PNG\"></a>\n",
    "<strong><center>Copyright by Pierian Data Inc.</center></strong> \n",
    "<strong><center>Created by Jose Marcial Portilla.</center></strong>"
   ]
  },
  {
   "cell_type": "markdown",
   "metadata": {},
   "source": [
    "# Tensorboard\n",
    "\n",
    "---\n",
    "---\n",
    "\n",
    "**NOTE: You must watch the corresponding video to understand this lecture. This notebook can't serve as a full guide. Please watch the video BEFORE posting questions to the QA forum.**\n",
    "\n",
    "---\n",
    "---\n",
    "\n",
    "Let's explore the built in data visualization capabilities that come with Tensorboard.\n",
    "\n",
    "Full official tutorial available here: https://www.tensorflow.org/tensorboard/get_started\n",
    "\n",
    "## Data"
   ]
  },
  {
   "cell_type": "code",
   "execution_count": 1,
   "metadata": {},
   "outputs": [],
   "source": [
    "import pandas as pd\n",
    "import numpy as np"
   ]
  },
  {
   "cell_type": "code",
   "execution_count": 2,
   "metadata": {},
   "outputs": [],
   "source": [
    "df = pd.read_csv('../DATA/cancer_classification.csv')"
   ]
  },
  {
   "cell_type": "markdown",
   "metadata": {},
   "source": [
    "### Train Test Split"
   ]
  },
  {
   "cell_type": "code",
   "execution_count": 3,
   "metadata": {},
   "outputs": [],
   "source": [
    "X = df.drop('benign_0__mal_1',axis=1).values\n",
    "y = df['benign_0__mal_1'].values"
   ]
  },
  {
   "cell_type": "code",
   "execution_count": 4,
   "metadata": {},
   "outputs": [],
   "source": [
    "from sklearn.model_selection import train_test_split"
   ]
  },
  {
   "cell_type": "code",
   "execution_count": 5,
   "metadata": {},
   "outputs": [],
   "source": [
    "X_train, X_test, y_train, y_test = train_test_split(X,y,test_size=0.25,random_state=101)"
   ]
  },
  {
   "cell_type": "markdown",
   "metadata": {},
   "source": [
    "\n",
    "### Scaling Data"
   ]
  },
  {
   "cell_type": "code",
   "execution_count": 6,
   "metadata": {},
   "outputs": [],
   "source": [
    "from sklearn.preprocessing import MinMaxScaler"
   ]
  },
  {
   "cell_type": "code",
   "execution_count": 7,
   "metadata": {},
   "outputs": [],
   "source": [
    "scaler = MinMaxScaler()"
   ]
  },
  {
   "cell_type": "code",
   "execution_count": 8,
   "metadata": {},
   "outputs": [
    {
     "data": {
      "text/html": [
       "<style>#sk-container-id-1 {color: black;background-color: white;}#sk-container-id-1 pre{padding: 0;}#sk-container-id-1 div.sk-toggleable {background-color: white;}#sk-container-id-1 label.sk-toggleable__label {cursor: pointer;display: block;width: 100%;margin-bottom: 0;padding: 0.3em;box-sizing: border-box;text-align: center;}#sk-container-id-1 label.sk-toggleable__label-arrow:before {content: \"▸\";float: left;margin-right: 0.25em;color: #696969;}#sk-container-id-1 label.sk-toggleable__label-arrow:hover:before {color: black;}#sk-container-id-1 div.sk-estimator:hover label.sk-toggleable__label-arrow:before {color: black;}#sk-container-id-1 div.sk-toggleable__content {max-height: 0;max-width: 0;overflow: hidden;text-align: left;background-color: #f0f8ff;}#sk-container-id-1 div.sk-toggleable__content pre {margin: 0.2em;color: black;border-radius: 0.25em;background-color: #f0f8ff;}#sk-container-id-1 input.sk-toggleable__control:checked~div.sk-toggleable__content {max-height: 200px;max-width: 100%;overflow: auto;}#sk-container-id-1 input.sk-toggleable__control:checked~label.sk-toggleable__label-arrow:before {content: \"▾\";}#sk-container-id-1 div.sk-estimator input.sk-toggleable__control:checked~label.sk-toggleable__label {background-color: #d4ebff;}#sk-container-id-1 div.sk-label input.sk-toggleable__control:checked~label.sk-toggleable__label {background-color: #d4ebff;}#sk-container-id-1 input.sk-hidden--visually {border: 0;clip: rect(1px 1px 1px 1px);clip: rect(1px, 1px, 1px, 1px);height: 1px;margin: -1px;overflow: hidden;padding: 0;position: absolute;width: 1px;}#sk-container-id-1 div.sk-estimator {font-family: monospace;background-color: #f0f8ff;border: 1px dotted black;border-radius: 0.25em;box-sizing: border-box;margin-bottom: 0.5em;}#sk-container-id-1 div.sk-estimator:hover {background-color: #d4ebff;}#sk-container-id-1 div.sk-parallel-item::after {content: \"\";width: 100%;border-bottom: 1px solid gray;flex-grow: 1;}#sk-container-id-1 div.sk-label:hover label.sk-toggleable__label {background-color: #d4ebff;}#sk-container-id-1 div.sk-serial::before {content: \"\";position: absolute;border-left: 1px solid gray;box-sizing: border-box;top: 0;bottom: 0;left: 50%;z-index: 0;}#sk-container-id-1 div.sk-serial {display: flex;flex-direction: column;align-items: center;background-color: white;padding-right: 0.2em;padding-left: 0.2em;position: relative;}#sk-container-id-1 div.sk-item {position: relative;z-index: 1;}#sk-container-id-1 div.sk-parallel {display: flex;align-items: stretch;justify-content: center;background-color: white;position: relative;}#sk-container-id-1 div.sk-item::before, #sk-container-id-1 div.sk-parallel-item::before {content: \"\";position: absolute;border-left: 1px solid gray;box-sizing: border-box;top: 0;bottom: 0;left: 50%;z-index: -1;}#sk-container-id-1 div.sk-parallel-item {display: flex;flex-direction: column;z-index: 1;position: relative;background-color: white;}#sk-container-id-1 div.sk-parallel-item:first-child::after {align-self: flex-end;width: 50%;}#sk-container-id-1 div.sk-parallel-item:last-child::after {align-self: flex-start;width: 50%;}#sk-container-id-1 div.sk-parallel-item:only-child::after {width: 0;}#sk-container-id-1 div.sk-dashed-wrapped {border: 1px dashed gray;margin: 0 0.4em 0.5em 0.4em;box-sizing: border-box;padding-bottom: 0.4em;background-color: white;}#sk-container-id-1 div.sk-label label {font-family: monospace;font-weight: bold;display: inline-block;line-height: 1.2em;}#sk-container-id-1 div.sk-label-container {text-align: center;}#sk-container-id-1 div.sk-container {/* jupyter's `normalize.less` sets `[hidden] { display: none; }` but bootstrap.min.css set `[hidden] { display: none !important; }` so we also need the `!important` here to be able to override the default hidden behavior on the sphinx rendered scikit-learn.org. See: https://github.com/scikit-learn/scikit-learn/issues/21755 */display: inline-block !important;position: relative;}#sk-container-id-1 div.sk-text-repr-fallback {display: none;}</style><div id=\"sk-container-id-1\" class=\"sk-top-container\"><div class=\"sk-text-repr-fallback\"><pre>MinMaxScaler()</pre><b>In a Jupyter environment, please rerun this cell to show the HTML representation or trust the notebook. <br />On GitHub, the HTML representation is unable to render, please try loading this page with nbviewer.org.</b></div><div class=\"sk-container\" hidden><div class=\"sk-item\"><div class=\"sk-estimator sk-toggleable\"><input class=\"sk-toggleable__control sk-hidden--visually\" id=\"sk-estimator-id-1\" type=\"checkbox\" checked><label for=\"sk-estimator-id-1\" class=\"sk-toggleable__label sk-toggleable__label-arrow\">MinMaxScaler</label><div class=\"sk-toggleable__content\"><pre>MinMaxScaler()</pre></div></div></div></div></div>"
      ],
      "text/plain": [
       "MinMaxScaler()"
      ]
     },
     "execution_count": 8,
     "metadata": {},
     "output_type": "execute_result"
    }
   ],
   "source": [
    "scaler.fit(X_train)"
   ]
  },
  {
   "cell_type": "code",
   "execution_count": 9,
   "metadata": {},
   "outputs": [],
   "source": [
    "X_train = scaler.transform(X_train)\n",
    "X_test = scaler.transform(X_test)"
   ]
  },
  {
   "cell_type": "markdown",
   "metadata": {},
   "source": [
    "## Creating the Model"
   ]
  },
  {
   "cell_type": "code",
   "execution_count": 10,
   "metadata": {},
   "outputs": [],
   "source": [
    "import tensorflow as tf\n",
    "from tensorflow.keras.models import Sequential\n",
    "from tensorflow.keras.layers import Dense, Activation,Dropout"
   ]
  },
  {
   "cell_type": "code",
   "execution_count": 11,
   "metadata": {},
   "outputs": [],
   "source": [
    "from tensorflow.keras.callbacks import EarlyStopping,TensorBoard"
   ]
  },
  {
   "cell_type": "code",
   "execution_count": 12,
   "metadata": {},
   "outputs": [],
   "source": [
    "early_stop = EarlyStopping(monitor='val_loss', mode='min', verbose=1, patience=25)"
   ]
  },
  {
   "cell_type": "code",
   "execution_count": 13,
   "metadata": {},
   "outputs": [
    {
     "data": {
      "text/plain": [
       "'C:\\\\Users\\\\91774\\\\Downloads\\\\TensorFlow_FILES\\\\ANNs'"
      ]
     },
     "execution_count": 13,
     "metadata": {},
     "output_type": "execute_result"
    }
   ],
   "source": [
    "pwd\n"
   ]
  },
  {
   "cell_type": "markdown",
   "metadata": {},
   "source": [
    "## Creating the Tensorboard Callback\n",
    "\n",
    "TensorBoard is a visualization tool provided with TensorFlow.\n",
    "\n",
    "This callback logs events for TensorBoard, including:\n",
    "* Metrics summary plots\n",
    "* Training graph visualization\n",
    "* Activation histograms\n",
    "* Sampled profiling\n",
    "\n",
    "If you have installed TensorFlow with pip, you should be able\n",
    "to launch TensorBoard from the command line:\n",
    "\n",
    "```sh\n",
    "tensorboard --logdir=path_to_your_logs\n",
    "```\n",
    "\n",
    "You can find more information about TensorBoard\n",
    "[here](https://www.tensorflow.org/tensorboard/).\n",
    "\n",
    "    Arguments:\n",
    "        log_dir: the path of the directory where to save the log files to be\n",
    "          parsed by TensorBoard.\n",
    "        histogram_freq: frequency (in epochs) at which to compute activation and\n",
    "          weight histograms for the layers of the model. If set to 0, histograms\n",
    "          won't be computed. Validation data (or split) must be specified for\n",
    "          histogram visualizations.\n",
    "        write_graph: whether to visualize the graph in TensorBoard. The log file\n",
    "          can become quite large when write_graph is set to True.\n",
    "        write_images: whether to write model weights to visualize as image in\n",
    "          TensorBoard.\n",
    "        update_freq: `'batch'` or `'epoch'` or integer. When using `'batch'`,\n",
    "          writes the losses and metrics to TensorBoard after each batch. The same\n",
    "          applies for `'epoch'`. If using an integer, let's say `1000`, the\n",
    "          callback will write the metrics and losses to TensorBoard every 1000\n",
    "          samples. Note that writing too frequently to TensorBoard can slow down\n",
    "          your training.\n",
    "        profile_batch: Profile the batch to sample compute characteristics. By\n",
    "          default, it will profile the second batch. Set profile_batch=0 to\n",
    "          disable profiling. Must run in TensorFlow eager mode.\n",
    "        embeddings_freq: frequency (in epochs) at which embedding layers will\n",
    "          be visualized. If set to 0, embeddings won't be visualized.\n",
    "       "
   ]
  },
  {
   "cell_type": "code",
   "execution_count": 14,
   "metadata": {},
   "outputs": [],
   "source": [
    "from datetime import datetime"
   ]
  },
  {
   "cell_type": "code",
   "execution_count": 15,
   "metadata": {},
   "outputs": [
    {
     "data": {
      "text/plain": [
       "'2023-09-19--2254'"
      ]
     },
     "execution_count": 15,
     "metadata": {},
     "output_type": "execute_result"
    }
   ],
   "source": [
    "datetime.now().strftime(\"%Y-%m-%d--%H%M\")"
   ]
  },
  {
   "cell_type": "code",
   "execution_count": 16,
   "metadata": {},
   "outputs": [],
   "source": [
    "# WINDOWS: Use \"logs\\\\fit\"\n",
    "# MACOS/LINUX: Use \"logs\\fit\"\n",
    "\n",
    "log_directory = 'logs\\\\fit'\n",
    "\n",
    "# OPTIONAL: ADD A TIMESTAMP FOR UNIQUE FOLDER\n",
    "# timestamp = datetime.now().strftime(\"%Y-%m-%d--%H%M\")\n",
    "# log_directory = log_directory + '\\\\' + timestamp\n",
    "\n",
    "\n",
    "board = TensorBoard(log_dir=log_directory,histogram_freq=1,\n",
    "    write_graph=True,\n",
    "    write_images=True,\n",
    "    update_freq='epoch',\n",
    "    profile_batch=2,\n",
    "    embeddings_freq=1)"
   ]
  },
  {
   "cell_type": "markdown",
   "metadata": {},
   "source": [
    "Now create the model layers:"
   ]
  },
  {
   "cell_type": "code",
   "execution_count": 17,
   "metadata": {},
   "outputs": [],
   "source": [
    "model = Sequential()\n",
    "model.add(Dense(units=30,activation='relu'))\n",
    "model.add(Dropout(0.5))\n",
    "model.add(Dense(units=15,activation='relu'))\n",
    "model.add(Dropout(0.5))\n",
    "model.add(Dense(units=1,activation='sigmoid'))\n",
    "model.compile(loss='binary_crossentropy', optimizer='adam')"
   ]
  },
  {
   "cell_type": "markdown",
   "metadata": {},
   "source": [
    "## Train the Model"
   ]
  },
  {
   "cell_type": "code",
   "execution_count": 18,
   "metadata": {},
   "outputs": [
    {
     "name": "stdout",
     "output_type": "stream",
     "text": [
      "Epoch 1/600\n",
      "14/14 [==============================] - 6s 173ms/step - loss: 0.6937 - val_loss: 0.6681\n",
      "Epoch 2/600\n",
      "14/14 [==============================] - 1s 64ms/step - loss: 0.6951 - val_loss: 0.6447\n",
      "Epoch 3/600\n",
      "14/14 [==============================] - 1s 63ms/step - loss: 0.6902 - val_loss: 0.6302\n",
      "Epoch 4/600\n",
      "14/14 [==============================] - 1s 67ms/step - loss: 0.6550 - val_loss: 0.6190\n",
      "Epoch 5/600\n",
      "14/14 [==============================] - 1s 72ms/step - loss: 0.6217 - val_loss: 0.6009\n",
      "Epoch 6/600\n",
      "14/14 [==============================] - 1s 99ms/step - loss: 0.6185 - val_loss: 0.5836\n",
      "Epoch 7/600\n",
      "14/14 [==============================] - 1s 59ms/step - loss: 0.5967 - val_loss: 0.5603\n",
      "Epoch 8/600\n",
      "14/14 [==============================] - 1s 59ms/step - loss: 0.5858 - val_loss: 0.5386\n",
      "Epoch 9/600\n",
      "14/14 [==============================] - 1s 55ms/step - loss: 0.5771 - val_loss: 0.5168\n",
      "Epoch 10/600\n",
      "14/14 [==============================] - 1s 58ms/step - loss: 0.5579 - val_loss: 0.4917\n",
      "Epoch 11/600\n",
      "14/14 [==============================] - 1s 62ms/step - loss: 0.5289 - val_loss: 0.4615\n",
      "Epoch 12/600\n",
      "14/14 [==============================] - 1s 43ms/step - loss: 0.5172 - val_loss: 0.4362\n",
      "Epoch 13/600\n",
      "14/14 [==============================] - 1s 46ms/step - loss: 0.5122 - val_loss: 0.4150\n",
      "Epoch 14/600\n",
      "14/14 [==============================] - 1s 44ms/step - loss: 0.4738 - val_loss: 0.3910\n",
      "Epoch 15/600\n",
      "14/14 [==============================] - 1s 58ms/step - loss: 0.4663 - val_loss: 0.3671\n",
      "Epoch 16/600\n",
      "14/14 [==============================] - 1s 54ms/step - loss: 0.4454 - val_loss: 0.3449\n",
      "Epoch 17/600\n",
      "14/14 [==============================] - 1s 49ms/step - loss: 0.4303 - val_loss: 0.3275\n",
      "Epoch 18/600\n",
      "14/14 [==============================] - 1s 43ms/step - loss: 0.3994 - val_loss: 0.3092\n",
      "Epoch 19/600\n",
      "14/14 [==============================] - 1s 44ms/step - loss: 0.3999 - val_loss: 0.2944\n",
      "Epoch 20/600\n",
      "14/14 [==============================] - 1s 65ms/step - loss: 0.3962 - val_loss: 0.2825\n",
      "Epoch 21/600\n",
      "14/14 [==============================] - 1s 64ms/step - loss: 0.4108 - val_loss: 0.2724\n",
      "Epoch 22/600\n",
      "14/14 [==============================] - 1s 47ms/step - loss: 0.3675 - val_loss: 0.2624\n",
      "Epoch 23/600\n",
      "14/14 [==============================] - 1s 55ms/step - loss: 0.3685 - val_loss: 0.2491\n",
      "Epoch 24/600\n",
      "14/14 [==============================] - 1s 51ms/step - loss: 0.3631 - val_loss: 0.2436\n",
      "Epoch 25/600\n",
      "14/14 [==============================] - 1s 54ms/step - loss: 0.3374 - val_loss: 0.2357\n",
      "Epoch 26/600\n",
      "14/14 [==============================] - 1s 39ms/step - loss: 0.3286 - val_loss: 0.2219\n",
      "Epoch 27/600\n",
      "14/14 [==============================] - 1s 43ms/step - loss: 0.3303 - val_loss: 0.2121\n",
      "Epoch 28/600\n",
      "14/14 [==============================] - 1s 50ms/step - loss: 0.3147 - val_loss: 0.2031\n",
      "Epoch 29/600\n",
      "14/14 [==============================] - 1s 67ms/step - loss: 0.3187 - val_loss: 0.1968\n",
      "Epoch 30/600\n",
      "14/14 [==============================] - 1s 65ms/step - loss: 0.3053 - val_loss: 0.1961\n",
      "Epoch 31/600\n",
      "14/14 [==============================] - 1s 63ms/step - loss: 0.3045 - val_loss: 0.1911\n",
      "Epoch 32/600\n",
      "14/14 [==============================] - 1s 76ms/step - loss: 0.2778 - val_loss: 0.1816\n",
      "Epoch 33/600\n",
      "14/14 [==============================] - 1s 66ms/step - loss: 0.2874 - val_loss: 0.1733\n",
      "Epoch 34/600\n",
      "14/14 [==============================] - 1s 65ms/step - loss: 0.2717 - val_loss: 0.1677\n",
      "Epoch 35/600\n",
      "14/14 [==============================] - 1s 50ms/step - loss: 0.2698 - val_loss: 0.1655\n",
      "Epoch 36/600\n",
      "14/14 [==============================] - 1s 49ms/step - loss: 0.2840 - val_loss: 0.1598\n",
      "Epoch 37/600\n",
      "14/14 [==============================] - 1s 61ms/step - loss: 0.2470 - val_loss: 0.1615\n",
      "Epoch 38/600\n",
      "14/14 [==============================] - 1s 69ms/step - loss: 0.2774 - val_loss: 0.1509\n",
      "Epoch 39/600\n",
      "14/14 [==============================] - 1s 53ms/step - loss: 0.2499 - val_loss: 0.1508\n",
      "Epoch 40/600\n",
      "14/14 [==============================] - 1s 57ms/step - loss: 0.2409 - val_loss: 0.1476\n",
      "Epoch 41/600\n",
      "14/14 [==============================] - 1s 61ms/step - loss: 0.2212 - val_loss: 0.1448\n",
      "Epoch 42/600\n",
      "14/14 [==============================] - 1s 70ms/step - loss: 0.2560 - val_loss: 0.1448\n",
      "Epoch 43/600\n",
      "14/14 [==============================] - 1s 52ms/step - loss: 0.2301 - val_loss: 0.1418\n",
      "Epoch 44/600\n",
      "14/14 [==============================] - 1s 72ms/step - loss: 0.2224 - val_loss: 0.1377\n",
      "Epoch 45/600\n",
      "14/14 [==============================] - 1s 52ms/step - loss: 0.2235 - val_loss: 0.1383\n",
      "Epoch 46/600\n",
      "14/14 [==============================] - 1s 49ms/step - loss: 0.2109 - val_loss: 0.1304\n",
      "Epoch 47/600\n",
      "14/14 [==============================] - 1s 44ms/step - loss: 0.2128 - val_loss: 0.1318\n",
      "Epoch 48/600\n",
      "14/14 [==============================] - 1s 53ms/step - loss: 0.2136 - val_loss: 0.1313\n",
      "Epoch 49/600\n",
      "14/14 [==============================] - 1s 57ms/step - loss: 0.2254 - val_loss: 0.1265\n",
      "Epoch 50/600\n",
      "14/14 [==============================] - 1s 62ms/step - loss: 0.1909 - val_loss: 0.1282\n",
      "Epoch 51/600\n",
      "14/14 [==============================] - 1s 58ms/step - loss: 0.1673 - val_loss: 0.1221\n",
      "Epoch 52/600\n",
      "14/14 [==============================] - 1s 51ms/step - loss: 0.2083 - val_loss: 0.1177\n",
      "Epoch 53/600\n",
      "14/14 [==============================] - 1s 54ms/step - loss: 0.1971 - val_loss: 0.1207\n",
      "Epoch 54/600\n",
      "14/14 [==============================] - 1s 62ms/step - loss: 0.1777 - val_loss: 0.1216\n",
      "Epoch 55/600\n",
      "14/14 [==============================] - 1s 65ms/step - loss: 0.1856 - val_loss: 0.1218\n",
      "Epoch 56/600\n",
      "14/14 [==============================] - 1s 62ms/step - loss: 0.1837 - val_loss: 0.1215\n",
      "Epoch 57/600\n",
      "14/14 [==============================] - 1s 47ms/step - loss: 0.1677 - val_loss: 0.1109\n",
      "Epoch 58/600\n",
      "14/14 [==============================] - 1s 49ms/step - loss: 0.1846 - val_loss: 0.1088\n",
      "Epoch 59/600\n",
      "14/14 [==============================] - 1s 53ms/step - loss: 0.1959 - val_loss: 0.1104\n",
      "Epoch 60/600\n",
      "14/14 [==============================] - 1s 62ms/step - loss: 0.1715 - val_loss: 0.1169\n",
      "Epoch 61/600\n",
      "14/14 [==============================] - 1s 53ms/step - loss: 0.1630 - val_loss: 0.1178\n",
      "Epoch 62/600\n",
      "14/14 [==============================] - 1s 49ms/step - loss: 0.1601 - val_loss: 0.1068\n",
      "Epoch 63/600\n",
      "14/14 [==============================] - 1s 51ms/step - loss: 0.1532 - val_loss: 0.1064\n",
      "Epoch 64/600\n",
      "14/14 [==============================] - 1s 57ms/step - loss: 0.1509 - val_loss: 0.1019\n",
      "Epoch 65/600\n",
      "14/14 [==============================] - 1s 67ms/step - loss: 0.1600 - val_loss: 0.1085\n",
      "Epoch 66/600\n",
      "14/14 [==============================] - 1s 56ms/step - loss: 0.1538 - val_loss: 0.1036\n",
      "Epoch 67/600\n",
      "14/14 [==============================] - 1s 40ms/step - loss: 0.1816 - val_loss: 0.0999\n",
      "Epoch 68/600\n",
      "14/14 [==============================] - 1s 43ms/step - loss: 0.1539 - val_loss: 0.1071\n",
      "Epoch 69/600\n",
      "14/14 [==============================] - 1s 56ms/step - loss: 0.1426 - val_loss: 0.1098\n",
      "Epoch 70/600\n",
      "14/14 [==============================] - 1s 56ms/step - loss: 0.1466 - val_loss: 0.1096\n",
      "Epoch 71/600\n",
      "14/14 [==============================] - 1s 57ms/step - loss: 0.1495 - val_loss: 0.0990\n",
      "Epoch 72/600\n",
      "14/14 [==============================] - 1s 53ms/step - loss: 0.1356 - val_loss: 0.1054\n",
      "Epoch 73/600\n",
      "14/14 [==============================] - 1s 68ms/step - loss: 0.1331 - val_loss: 0.1010\n",
      "Epoch 74/600\n",
      "14/14 [==============================] - 1s 63ms/step - loss: 0.1404 - val_loss: 0.0961\n",
      "Epoch 75/600\n",
      "14/14 [==============================] - 1s 49ms/step - loss: 0.1184 - val_loss: 0.1061\n",
      "Epoch 76/600\n",
      "14/14 [==============================] - 1s 57ms/step - loss: 0.1631 - val_loss: 0.0983\n",
      "Epoch 77/600\n",
      "14/14 [==============================] - 1s 46ms/step - loss: 0.1296 - val_loss: 0.0932\n",
      "Epoch 78/600\n",
      "14/14 [==============================] - 1s 57ms/step - loss: 0.1489 - val_loss: 0.1028\n",
      "Epoch 79/600\n",
      "14/14 [==============================] - 1s 54ms/step - loss: 0.1346 - val_loss: 0.0933\n",
      "Epoch 80/600\n",
      "14/14 [==============================] - 1s 48ms/step - loss: 0.1370 - val_loss: 0.0917\n",
      "Epoch 81/600\n",
      "14/14 [==============================] - 1s 48ms/step - loss: 0.1375 - val_loss: 0.0957\n",
      "Epoch 82/600\n"
     ]
    },
    {
     "name": "stdout",
     "output_type": "stream",
     "text": [
      "14/14 [==============================] - 1s 49ms/step - loss: 0.1269 - val_loss: 0.0968\n",
      "Epoch 83/600\n",
      "14/14 [==============================] - 1s 62ms/step - loss: 0.1473 - val_loss: 0.0958\n",
      "Epoch 84/600\n",
      "14/14 [==============================] - 1s 44ms/step - loss: 0.1191 - val_loss: 0.0987\n",
      "Epoch 85/600\n",
      "14/14 [==============================] - 1s 50ms/step - loss: 0.1348 - val_loss: 0.0922\n",
      "Epoch 86/600\n",
      "14/14 [==============================] - 1s 40ms/step - loss: 0.1427 - val_loss: 0.0926\n",
      "Epoch 87/600\n",
      "14/14 [==============================] - 1s 44ms/step - loss: 0.1165 - val_loss: 0.0926\n",
      "Epoch 88/600\n",
      "14/14 [==============================] - 1s 48ms/step - loss: 0.1208 - val_loss: 0.0964\n",
      "Epoch 89/600\n",
      "14/14 [==============================] - 0s 35ms/step - loss: 0.1300 - val_loss: 0.0950\n",
      "Epoch 90/600\n",
      "14/14 [==============================] - 0s 32ms/step - loss: 0.1371 - val_loss: 0.1019\n",
      "Epoch 91/600\n",
      "14/14 [==============================] - 1s 46ms/step - loss: 0.1158 - val_loss: 0.0914\n",
      "Epoch 92/600\n",
      "14/14 [==============================] - 1s 41ms/step - loss: 0.1093 - val_loss: 0.0974\n",
      "Epoch 93/600\n",
      "14/14 [==============================] - 1s 58ms/step - loss: 0.1317 - val_loss: 0.0955\n",
      "Epoch 94/600\n",
      "14/14 [==============================] - 1s 56ms/step - loss: 0.1181 - val_loss: 0.0964\n",
      "Epoch 95/600\n",
      "14/14 [==============================] - 1s 51ms/step - loss: 0.1233 - val_loss: 0.0892\n",
      "Epoch 96/600\n",
      "14/14 [==============================] - 1s 49ms/step - loss: 0.1169 - val_loss: 0.0941\n",
      "Epoch 97/600\n",
      "14/14 [==============================] - 1s 45ms/step - loss: 0.1309 - val_loss: 0.0936\n",
      "Epoch 98/600\n",
      "14/14 [==============================] - 1s 50ms/step - loss: 0.1012 - val_loss: 0.0884\n",
      "Epoch 99/600\n",
      "14/14 [==============================] - 1s 45ms/step - loss: 0.1198 - val_loss: 0.0941\n",
      "Epoch 100/600\n",
      "14/14 [==============================] - 1s 46ms/step - loss: 0.1217 - val_loss: 0.0970\n",
      "Epoch 101/600\n",
      "14/14 [==============================] - 1s 44ms/step - loss: 0.1069 - val_loss: 0.0940\n",
      "Epoch 102/600\n",
      "14/14 [==============================] - 1s 42ms/step - loss: 0.1338 - val_loss: 0.0931\n",
      "Epoch 103/600\n",
      "14/14 [==============================] - 1s 46ms/step - loss: 0.1142 - val_loss: 0.1004\n",
      "Epoch 104/600\n",
      "14/14 [==============================] - 1s 55ms/step - loss: 0.1134 - val_loss: 0.1036\n",
      "Epoch 105/600\n",
      "14/14 [==============================] - 1s 49ms/step - loss: 0.1276 - val_loss: 0.0918\n",
      "Epoch 106/600\n",
      "14/14 [==============================] - 1s 47ms/step - loss: 0.1453 - val_loss: 0.0952\n",
      "Epoch 107/600\n",
      "14/14 [==============================] - 1s 49ms/step - loss: 0.1027 - val_loss: 0.1030\n",
      "Epoch 108/600\n",
      "14/14 [==============================] - 1s 66ms/step - loss: 0.1143 - val_loss: 0.0955\n",
      "Epoch 109/600\n",
      "14/14 [==============================] - 1s 53ms/step - loss: 0.1214 - val_loss: 0.1108\n",
      "Epoch 110/600\n",
      "14/14 [==============================] - 1s 60ms/step - loss: 0.1137 - val_loss: 0.0923\n",
      "Epoch 111/600\n",
      "14/14 [==============================] - 1s 62ms/step - loss: 0.1103 - val_loss: 0.0909\n",
      "Epoch 112/600\n",
      "14/14 [==============================] - 1s 56ms/step - loss: 0.1074 - val_loss: 0.0939\n",
      "Epoch 113/600\n",
      "14/14 [==============================] - 1s 48ms/step - loss: 0.1064 - val_loss: 0.0891\n",
      "Epoch 114/600\n",
      "14/14 [==============================] - 1s 40ms/step - loss: 0.0966 - val_loss: 0.0887\n",
      "Epoch 115/600\n",
      "14/14 [==============================] - 1s 43ms/step - loss: 0.1072 - val_loss: 0.0909\n",
      "Epoch 116/600\n",
      "14/14 [==============================] - 1s 55ms/step - loss: 0.1211 - val_loss: 0.0901\n",
      "Epoch 117/600\n",
      "14/14 [==============================] - 1s 58ms/step - loss: 0.1163 - val_loss: 0.0874\n",
      "Epoch 118/600\n",
      "14/14 [==============================] - 1s 64ms/step - loss: 0.0978 - val_loss: 0.1021\n",
      "Epoch 119/600\n",
      "14/14 [==============================] - 1s 62ms/step - loss: 0.1032 - val_loss: 0.0929\n",
      "Epoch 120/600\n",
      "14/14 [==============================] - 1s 73ms/step - loss: 0.1101 - val_loss: 0.0908\n",
      "Epoch 121/600\n",
      "14/14 [==============================] - 1s 84ms/step - loss: 0.1013 - val_loss: 0.0867\n",
      "Epoch 122/600\n",
      "14/14 [==============================] - 1s 82ms/step - loss: 0.0973 - val_loss: 0.1029\n",
      "Epoch 123/600\n",
      "14/14 [==============================] - 1s 56ms/step - loss: 0.1016 - val_loss: 0.0920\n",
      "Epoch 124/600\n",
      "14/14 [==============================] - 1s 57ms/step - loss: 0.1011 - val_loss: 0.0899\n",
      "Epoch 125/600\n",
      "14/14 [==============================] - 1s 63ms/step - loss: 0.1227 - val_loss: 0.0965\n",
      "Epoch 126/600\n",
      "14/14 [==============================] - 1s 82ms/step - loss: 0.0984 - val_loss: 0.0912\n",
      "Epoch 127/600\n",
      "14/14 [==============================] - 1s 58ms/step - loss: 0.0966 - val_loss: 0.0880\n",
      "Epoch 128/600\n",
      "14/14 [==============================] - 1s 47ms/step - loss: 0.0939 - val_loss: 0.0901\n",
      "Epoch 129/600\n",
      "14/14 [==============================] - 1s 62ms/step - loss: 0.0818 - val_loss: 0.0915\n",
      "Epoch 130/600\n",
      "14/14 [==============================] - 1s 64ms/step - loss: 0.0861 - val_loss: 0.0939\n",
      "Epoch 131/600\n",
      "14/14 [==============================] - 1s 61ms/step - loss: 0.1132 - val_loss: 0.0882\n",
      "Epoch 132/600\n",
      "14/14 [==============================] - 1s 56ms/step - loss: 0.0885 - val_loss: 0.0983\n",
      "Epoch 133/600\n",
      "14/14 [==============================] - 1s 56ms/step - loss: 0.0772 - val_loss: 0.0959\n",
      "Epoch 134/600\n",
      "14/14 [==============================] - 1s 63ms/step - loss: 0.0949 - val_loss: 0.0869\n",
      "Epoch 135/600\n",
      "14/14 [==============================] - 1s 77ms/step - loss: 0.0917 - val_loss: 0.0941\n",
      "Epoch 136/600\n",
      "14/14 [==============================] - 1s 67ms/step - loss: 0.1063 - val_loss: 0.1053\n",
      "Epoch 137/600\n",
      "14/14 [==============================] - 1s 44ms/step - loss: 0.1196 - val_loss: 0.1034\n",
      "Epoch 138/600\n",
      "14/14 [==============================] - 1s 57ms/step - loss: 0.1074 - val_loss: 0.0938\n",
      "Epoch 139/600\n",
      "14/14 [==============================] - 1s 61ms/step - loss: 0.0962 - val_loss: 0.0999\n",
      "Epoch 140/600\n",
      "14/14 [==============================] - 1s 60ms/step - loss: 0.0953 - val_loss: 0.0970\n",
      "Epoch 141/600\n",
      "14/14 [==============================] - 1s 44ms/step - loss: 0.0988 - val_loss: 0.0975\n",
      "Epoch 142/600\n",
      "14/14 [==============================] - 1s 51ms/step - loss: 0.0789 - val_loss: 0.0963\n",
      "Epoch 143/600\n",
      "14/14 [==============================] - 1s 61ms/step - loss: 0.0865 - val_loss: 0.0997\n",
      "Epoch 144/600\n",
      "14/14 [==============================] - 1s 57ms/step - loss: 0.1026 - val_loss: 0.0903\n",
      "Epoch 145/600\n",
      "14/14 [==============================] - 1s 55ms/step - loss: 0.0899 - val_loss: 0.0932\n",
      "Epoch 146/600\n",
      "14/14 [==============================] - 1s 45ms/step - loss: 0.0846 - val_loss: 0.0990\n",
      "Epoch 146: early stopping\n"
     ]
    },
    {
     "data": {
      "text/plain": [
       "<keras.src.callbacks.History at 0x2056f44ff70>"
      ]
     },
     "execution_count": 18,
     "metadata": {},
     "output_type": "execute_result"
    }
   ],
   "source": [
    "model.fit(x=X_train, \n",
    "          y=y_train, \n",
    "          epochs=600,\n",
    "          validation_data=(X_test, y_test), verbose=1,\n",
    "          callbacks=[early_stop,board]\n",
    "          )"
   ]
  },
  {
   "cell_type": "markdown",
   "metadata": {},
   "source": [
    "# Running Tensorboard\n"
   ]
  },
  {
   "cell_type": "markdown",
   "metadata": {},
   "source": [
    "## Running through the Command Line\n",
    "\n",
    "**Watch video to see how to run Tensorboard through a command line call.**"
   ]
  },
  {
   "cell_type": "markdown",
   "metadata": {},
   "source": [
    "Tensorboard will run locally in your browser at [http://localhost:6006/](http://localhost:6006/)\n"
   ]
  },
  {
   "cell_type": "code",
   "execution_count": 19,
   "metadata": {},
   "outputs": [
    {
     "name": "stdout",
     "output_type": "stream",
     "text": [
      "logs\\fit\n"
     ]
    }
   ],
   "source": [
    "print(log_directory)"
   ]
  },
  {
   "cell_type": "code",
   "execution_count": 20,
   "metadata": {},
   "outputs": [
    {
     "data": {
      "text/plain": [
       "'C:\\\\Users\\\\91774\\\\Downloads\\\\TensorFlow_FILES\\\\ANNs'"
      ]
     },
     "execution_count": 20,
     "metadata": {},
     "output_type": "execute_result"
    }
   ],
   "source": [
    "pwd"
   ]
  },
  {
   "cell_type": "markdown",
   "metadata": {},
   "source": [
    "### Use cd at your command line to change directory to the file path reported back by pwd or your current .py file location.\n",
    "### Then run this code at your command line or terminal"
   ]
  },
  {
   "cell_type": "code",
   "execution_count": null,
   "metadata": {},
   "outputs": [],
   "source": [
    "tensorboard --logdir logs\\fit "
   ]
  }
 ],
 "metadata": {
  "kernelspec": {
   "display_name": "Python 3 (ipykernel)",
   "language": "python",
   "name": "python3"
  },
  "language_info": {
   "codemirror_mode": {
    "name": "ipython",
    "version": 3
   },
   "file_extension": ".py",
   "mimetype": "text/x-python",
   "name": "python",
   "nbconvert_exporter": "python",
   "pygments_lexer": "ipython3",
   "version": "3.10.9"
  }
 },
 "nbformat": 4,
 "nbformat_minor": 2
}
