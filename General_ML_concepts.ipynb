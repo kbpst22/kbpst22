{
 "cells": [
  {
   "cell_type": "markdown",
   "metadata": {
    "id": "wiUgyDjSw9fg"
   },
   "source": [
    "* Big Data  - ? ? ?\n",
    "\n",
    "* Data Engineering - ? ? ?\n",
    "\n",
    "* Machine Learning - ? ? ?\n",
    "\n",
    "* Deep Learning - ? ? ?\n",
    "\n",
    "* Reinforcement Learning - ? ? ?\n",
    "\n",
    "* AI - ? ? ?\n",
    "\n",
    "* What else - ? ? ?\n"
   ]
  },
  {
   "cell_type": "markdown",
   "metadata": {
    "id": "JwiNcJrwL70r"
   },
   "source": [
    "**Some prominent applications:**\n",
    "\n",
    "* Identification of unwanted spam messages in e-mail\n",
    "* Segmentation of customer behavior for targeted advertising\n",
    "* Forecasts of weather behavior and long-term climate changes\n",
    "* Reduction of fraudulent credit card transactions\n",
    "* Prediction of popular election outcomes\n",
    "* Development of algorithms for auto-piloting drones and self-driving cars\n",
    "* Optimization of energy use in homes and office buildings\n",
    "* Projection of areas where criminal activity is most likely\n",
    "* Discovery of genetic sequences linked to diseases\n"
   ]
  },
  {
   "cell_type": "markdown",
   "metadata": {
    "id": "x9fEEmHbP6Mr"
   },
   "source": [
    "\n",
    "\n",
    "---\n",
    "\n"
   ]
  },
  {
   "cell_type": "markdown",
   "metadata": {
    "id": "ScQovjjgcBXE"
   },
   "source": [
    "A computer program is said to learn from experience E with respect to some task T and some performance measure P, if its performance on T, as measured by P, improved with experience E"
   ]
  },
  {
   "cell_type": "markdown",
   "metadata": {
    "id": "TzlhbxHWNDoo"
   },
   "source": [
    "**Bad data**\n",
    "* Data is incomplete or missing, Lot of columns with no or partial data\n",
    "* The data is incorrect\n",
    "* The data is biased\n",
    "* Data is improperly structured\n",
    "* Lot of interrelated / unrelated columns context of which is not clear\n"
   ]
  },
  {
   "cell_type": "markdown",
   "metadata": {
    "id": "d1pahDbmP4py"
   },
   "source": [
    "\n",
    "\n",
    "---\n",
    "\n"
   ]
  },
  {
   "cell_type": "markdown",
   "metadata": {
    "id": "xunR5ZBE3o0B"
   },
   "source": [
    "**Feature engineering**\n",
    "\n",
    "Feature engineering have two goals:\n",
    "* Preparing the proper input dataset, compatible with the machine learning algorithm requirements.\n",
    "* Improving the performance of machine learning models.\n",
    "\n",
    "**Different methods**\n",
    "\n",
    "* Missing value Imputation - Numerical and Categorical.  We need to also differentiate between Discrete vs Continuous data\n",
    "\n",
    "https://www.mathsisfun.com/data/data-discrete-continuous.html\n",
    "\n",
    "* Handling Outliers - Various ways to detect\n",
    "* Log Transform - It helps to handle skewed data and after transformation, the distribution becomes more approximate to normal.  \n",
    "* One-Hot Encoding (n columns) and Dummy encoding (n-1 columns)- Changing textual data to numeric data\n",
    "* Feature Split - By extracting the utilizable parts of a column into new features, we enable machine learning algorithms to comprehend them\n",
    "* Scaling - min-max (Normalization), z-score (Standardization)\n",
    "* Extracting Date"
   ]
  },
  {
   "cell_type": "markdown",
   "metadata": {
    "id": "WTiGBP7S3twk"
   },
   "source": [
    "\n",
    "\n",
    "---\n",
    "\n"
   ]
  },
  {
   "cell_type": "markdown",
   "metadata": {
    "id": "ut1KoUQSN48e"
   },
   "source": [
    "**Outlier detection:** - After clustering\n",
    "\n",
    "* A univariate outlier is a data point that consists of an extreme value on one variable.  A multivariate outlier is a combination of unusual scores on at least two variables.  \n",
    "\n",
    "* Outliers in input data can skew and mislead the training process of machine learning algorithms resulting in longer training times, less accurate models and ultimately poorer results.\n",
    "\n",
    "* Outliers can also represent examples of data instances that are relevant to the problem such as anomalies in the case of fraud detection\n",
    "\n",
    "\n",
    "**Outlier detection methods**\n",
    "\n",
    "**Extreme Value Analysis** - Use statistics to identify these, z-scores, skewness, kurtosis etc\n",
    "\n",
    "**Proximity Methods** - Identify data instances that are a more than a standard predetermined distance from cluster centroids.  K-means clustering, DBSCAN clustering etc. can be used\n",
    "\n",
    "\n",
    "\n"
   ]
  },
  {
   "cell_type": "markdown",
   "metadata": {
    "id": "mWaTDVDwP73r"
   },
   "source": [
    "\n",
    "\n",
    "---\n",
    "\n"
   ]
  },
  {
   "cell_type": "markdown",
   "metadata": {
    "id": "AudwOzcUP9qC"
   },
   "source": [
    "**Converting Categorical columns to numeric columns**\n",
    "\n",
    "**Dummy coding:** For many algorithms we need to convert categorical data into a numeric format. A typical solution utilizes dummy coding, where a value of 1 indicates one category, and 0, the other.\n",
    "\n",
    "* An n-category nominal feature can be dummy coded by creating the binary indicator variables for (n - 1) levels of the feature. For example, the dummy coding for a three-category temperature variable (for example, hot, medium, or cold) could be set up as (3 - 1) = 2 features. Knowing that hot and medium are both 0 is enough to know that the temperature is cold. We, therefore, do not need a third feature for the cold category.\n",
    "\n",
    "* One Hot encoding creates n columns"
   ]
  },
  {
   "cell_type": "markdown",
   "metadata": {
    "id": "Hnwvufqb7um8"
   },
   "source": [
    "\n",
    "\n",
    "---\n",
    "\n"
   ]
  },
  {
   "cell_type": "markdown",
   "metadata": {
    "id": "7EOJBSUoMPqc"
   },
   "source": [
    "**Under fitting Vs Over fitting** – Avoid both!!  Have a proper and flexible fit \n",
    "\n",
    "* Text book questions - Training data\n",
    "* Exam questions - Test data\n",
    "* Preparaton - Training model on Training data\n",
    "* Exam - Runing model on Test data\n",
    "\n",
    "* Student 1 - byheart text book questions. will fail if exam qeustions are different. otherwise will perform very well. - Overfitting\n",
    "\n",
    "* Student 2 - Read half of the concepts - average performance in either case. - Underfitting\n",
    "\n",
    "* Student 3 - Understood concepts very well. Will perform well in exam in any case. - **Proper fit. Learn the signal. Ignore the noise**\n",
    "\n",
    "----------\n",
    "* The **bias error** is an error from erroneous assumptions in the learning algorithm. High bias can cause an algorithm to miss the relevant relations between features and target outputs (under fitting)\n",
    "\n",
    "* The **variance error** is an error from sensitivity to small fluctuations in the training set. High variance can cause an algorithm to model the random noise in the training data, rather than the intended outputs (overfitting).\n",
    "\n",
    "* The **bias–variance tradeoff** – when one increases, the other decreases and vice-versa\n",
    "\n",
    "* Ideal is to simultaneously minimize both – Ensemble (mix of algorithms) algorithms can help!\n",
    "\n",
    "* Overfitting can be addressed through reducing no of features (**Dimensionality reduction**), reducing magnitude of parameters etc.\n",
    "\n",
    "* Additional training data can address issues with high variance but not issues with high bias\n",
    "\n",
    "* High Bias can be addressed by adding Polynomial features\n",
    "\n",
    "* Regularization effectively reduced Overfitting by reducing the impact of features\n"
   ]
  },
  {
   "cell_type": "markdown",
   "metadata": {
    "id": "oU2kltPKwOBz"
   },
   "source": [
    "\n",
    "\n",
    "---\n",
    "\n"
   ]
  }
 ],
 "metadata": {
  "colab": {
   "provenance": []
  },
  "kernelspec": {
   "display_name": "anaconda-panel-2023.05-py310",
   "language": "python",
   "name": "conda-env-anaconda-panel-2023.05-py310-py"
  },
  "language_info": {
   "codemirror_mode": {
    "name": "ipython",
    "version": 3
   },
   "file_extension": ".py",
   "mimetype": "text/x-python",
   "name": "python",
   "nbconvert_exporter": "python",
   "pygments_lexer": "ipython3",
   "version": "3.11.4"
  }
 },
 "nbformat": 4,
 "nbformat_minor": 4
}
